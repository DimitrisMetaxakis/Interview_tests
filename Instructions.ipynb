{
 "cells": [
  {
   "cell_type": "code",
   "execution_count": null,
   "metadata": {
    "collapsed": true
   },
   "outputs": [],
   "source": [
    "Python Setup\n",
    "You can complete this course using any OS: Windows, macOS, Linux, etc.\n",
    "\n",
    "This course requires Python 3.8 or higher. You can download the latest Python version from Python.org.\n",
    "\n",
    "This course also requires pipenv. To install pipenv, run pip install pipenv from the command line.\n",
    "\n",
    "You should also have a Python editor/IDE of your choice. Good choices include PyCharm and Visual Studio Code.\n",
    "\n",
    "You will also need Git to copy this project code. If you are new to Git, try learning the basics.\n",
    "\n",
    "WebDriver Setup\n",
    "For Web UI testing, you will need to install the latest versions of Google Chrome and Mozilla Firefox. You can use other browsers with Selenium WebDriver, but the course will use Chrome and Firefox.\n",
    "\n",
    "You will also need to install the latest versions of the WebDriver executables for these browsers: ChromeDriver for Chrome and geckodriver for Firefox. Each test case will launch the WebDriver executable for its target browser. The WebDriver executable will act as a proxy between the test automation and the browser instance. Please use the latest versions of both the browsers and the WebDriver executables. Older versions might be incompatible with each other.\n",
    "\n",
    "ChromeDriver and geckodriver must be installed on the system path.\n",
    "\n",
    "WebDriver Setup for Windows\n",
    "To install ChromeDriver and geckodriver on Windows:\n",
    "\n",
    "1.Create a folder named C:\\Selenium.\n",
    "2.Move the executables into this folder.\n",
    "3.Add this folder to the Path environment variable. (See How to Add to Windows PATH Environment Variable.)\n",
    "\n",
    "Project Setup\n",
    "1.Clone this repository.\n",
    "2.Run cd tau-intro-selenium-py to enter the project.\n",
    "3.Run pipenv install to install the dependencies.\n",
    "4.Run pipenv run python -m pytest to verify that the framework can run tests.\n",
    "5.Create a branch for your code changes. (See Repository Branching below.)\n",
    "\n",
    "Solution Files\n",
    "1. spitogatos\n",
    "2. spitogatos_test"
   ]
  }
 ],
 "metadata": {
  "kernelspec": {
   "display_name": "Python 3",
   "language": "python",
   "name": "python3"
  },
  "language_info": {
   "codemirror_mode": {
    "name": "ipython",
    "version": 2
   },
   "file_extension": ".py",
   "mimetype": "text/x-python",
   "name": "python",
   "nbconvert_exporter": "python",
   "pygments_lexer": "ipython2",
   "version": "2.7.6"
  }
 },
 "nbformat": 4,
 "nbformat_minor": 0
}